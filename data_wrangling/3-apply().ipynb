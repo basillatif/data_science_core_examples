{
  "nbformat": 4,
  "nbformat_minor": 0,
  "metadata": {
    "colab": {
      "provenance": []
    },
    "kernelspec": {
      "name": "python3",
      "display_name": "Python 3"
    },
    "language_info": {
      "name": "python"
    }
  },
  "cells": [
    {
      "cell_type": "markdown",
      "metadata": {
        "id": "jtDfDnucNFhM"
      },
      "source": [
        "# The `.apply()` Function\n",
        "\n",
        "Data sets are not always compiled by data scientists.  Sometimes data⁠—particularly text data⁠—is entered into a database in a variety of ways, which makes it hard for us to calculate basic descriptive statistics.\n",
        "\n",
        "The `.apply()` function is a handy tool for cleaning messy data.  We'll explore the capability of `.apply()` by cleaning a very messy data set of participants in two training programs at a local running store.\n",
        "\n"
      ]
    },
    {
      "cell_type": "markdown",
      "metadata": {
        "id": "YVDbdDBDQVoS"
      },
      "source": [
        "#Step 1: Download and save the `running.csv` data set from the class materials  \n",
        "\n",
        "* Make a note of where you saved the file on your computer."
      ]
    },
    {
      "cell_type": "markdown",
      "metadata": {
        "id": "63UbfVKeQfsl"
      },
      "source": [
        "#Step 2: Upload the `running.csv` data set by running the following code block\n",
        "\n",
        "* When prompted, navigate to and select the `running.csv` data set where you saved it on your computer."
      ]
    },
    {
      "cell_type": "code",
      "metadata": {
        "id": "bxSC_MgQQUis",
        "colab": {
          "base_uri": "https://localhost:8080/",
          "height": 73
        },
        "outputId": "9c8464b7-6d47-409e-8703-7faaba86dcb4"
      },
      "source": [
        "#Step 2\n",
        "\n",
        "from google.colab import files\n",
        "running = files.upload()"
      ],
      "execution_count": null,
      "outputs": [
        {
          "output_type": "display_data",
          "data": {
            "text/plain": [
              "<IPython.core.display.HTML object>"
            ],
            "text/html": [
              "\n",
              "     <input type=\"file\" id=\"files-54b305cd-f4d9-41ba-a44f-7b7b934231fe\" name=\"files[]\" multiple disabled\n",
              "        style=\"border:none\" />\n",
              "     <output id=\"result-54b305cd-f4d9-41ba-a44f-7b7b934231fe\">\n",
              "      Upload widget is only available when the cell has been executed in the\n",
              "      current browser session. Please rerun this cell to enable.\n",
              "      </output>\n",
              "      <script>// Copyright 2017 Google LLC\n",
              "//\n",
              "// Licensed under the Apache License, Version 2.0 (the \"License\");\n",
              "// you may not use this file except in compliance with the License.\n",
              "// You may obtain a copy of the License at\n",
              "//\n",
              "//      http://www.apache.org/licenses/LICENSE-2.0\n",
              "//\n",
              "// Unless required by applicable law or agreed to in writing, software\n",
              "// distributed under the License is distributed on an \"AS IS\" BASIS,\n",
              "// WITHOUT WARRANTIES OR CONDITIONS OF ANY KIND, either express or implied.\n",
              "// See the License for the specific language governing permissions and\n",
              "// limitations under the License.\n",
              "\n",
              "/**\n",
              " * @fileoverview Helpers for google.colab Python module.\n",
              " */\n",
              "(function(scope) {\n",
              "function span(text, styleAttributes = {}) {\n",
              "  const element = document.createElement('span');\n",
              "  element.textContent = text;\n",
              "  for (const key of Object.keys(styleAttributes)) {\n",
              "    element.style[key] = styleAttributes[key];\n",
              "  }\n",
              "  return element;\n",
              "}\n",
              "\n",
              "// Max number of bytes which will be uploaded at a time.\n",
              "const MAX_PAYLOAD_SIZE = 100 * 1024;\n",
              "\n",
              "function _uploadFiles(inputId, outputId) {\n",
              "  const steps = uploadFilesStep(inputId, outputId);\n",
              "  const outputElement = document.getElementById(outputId);\n",
              "  // Cache steps on the outputElement to make it available for the next call\n",
              "  // to uploadFilesContinue from Python.\n",
              "  outputElement.steps = steps;\n",
              "\n",
              "  return _uploadFilesContinue(outputId);\n",
              "}\n",
              "\n",
              "// This is roughly an async generator (not supported in the browser yet),\n",
              "// where there are multiple asynchronous steps and the Python side is going\n",
              "// to poll for completion of each step.\n",
              "// This uses a Promise to block the python side on completion of each step,\n",
              "// then passes the result of the previous step as the input to the next step.\n",
              "function _uploadFilesContinue(outputId) {\n",
              "  const outputElement = document.getElementById(outputId);\n",
              "  const steps = outputElement.steps;\n",
              "\n",
              "  const next = steps.next(outputElement.lastPromiseValue);\n",
              "  return Promise.resolve(next.value.promise).then((value) => {\n",
              "    // Cache the last promise value to make it available to the next\n",
              "    // step of the generator.\n",
              "    outputElement.lastPromiseValue = value;\n",
              "    return next.value.response;\n",
              "  });\n",
              "}\n",
              "\n",
              "/**\n",
              " * Generator function which is called between each async step of the upload\n",
              " * process.\n",
              " * @param {string} inputId Element ID of the input file picker element.\n",
              " * @param {string} outputId Element ID of the output display.\n",
              " * @return {!Iterable<!Object>} Iterable of next steps.\n",
              " */\n",
              "function* uploadFilesStep(inputId, outputId) {\n",
              "  const inputElement = document.getElementById(inputId);\n",
              "  inputElement.disabled = false;\n",
              "\n",
              "  const outputElement = document.getElementById(outputId);\n",
              "  outputElement.innerHTML = '';\n",
              "\n",
              "  const pickedPromise = new Promise((resolve) => {\n",
              "    inputElement.addEventListener('change', (e) => {\n",
              "      resolve(e.target.files);\n",
              "    });\n",
              "  });\n",
              "\n",
              "  const cancel = document.createElement('button');\n",
              "  inputElement.parentElement.appendChild(cancel);\n",
              "  cancel.textContent = 'Cancel upload';\n",
              "  const cancelPromise = new Promise((resolve) => {\n",
              "    cancel.onclick = () => {\n",
              "      resolve(null);\n",
              "    };\n",
              "  });\n",
              "\n",
              "  // Wait for the user to pick the files.\n",
              "  const files = yield {\n",
              "    promise: Promise.race([pickedPromise, cancelPromise]),\n",
              "    response: {\n",
              "      action: 'starting',\n",
              "    }\n",
              "  };\n",
              "\n",
              "  cancel.remove();\n",
              "\n",
              "  // Disable the input element since further picks are not allowed.\n",
              "  inputElement.disabled = true;\n",
              "\n",
              "  if (!files) {\n",
              "    return {\n",
              "      response: {\n",
              "        action: 'complete',\n",
              "      }\n",
              "    };\n",
              "  }\n",
              "\n",
              "  for (const file of files) {\n",
              "    const li = document.createElement('li');\n",
              "    li.append(span(file.name, {fontWeight: 'bold'}));\n",
              "    li.append(span(\n",
              "        `(${file.type || 'n/a'}) - ${file.size} bytes, ` +\n",
              "        `last modified: ${\n",
              "            file.lastModifiedDate ? file.lastModifiedDate.toLocaleDateString() :\n",
              "                                    'n/a'} - `));\n",
              "    const percent = span('0% done');\n",
              "    li.appendChild(percent);\n",
              "\n",
              "    outputElement.appendChild(li);\n",
              "\n",
              "    const fileDataPromise = new Promise((resolve) => {\n",
              "      const reader = new FileReader();\n",
              "      reader.onload = (e) => {\n",
              "        resolve(e.target.result);\n",
              "      };\n",
              "      reader.readAsArrayBuffer(file);\n",
              "    });\n",
              "    // Wait for the data to be ready.\n",
              "    let fileData = yield {\n",
              "      promise: fileDataPromise,\n",
              "      response: {\n",
              "        action: 'continue',\n",
              "      }\n",
              "    };\n",
              "\n",
              "    // Use a chunked sending to avoid message size limits. See b/62115660.\n",
              "    let position = 0;\n",
              "    do {\n",
              "      const length = Math.min(fileData.byteLength - position, MAX_PAYLOAD_SIZE);\n",
              "      const chunk = new Uint8Array(fileData, position, length);\n",
              "      position += length;\n",
              "\n",
              "      const base64 = btoa(String.fromCharCode.apply(null, chunk));\n",
              "      yield {\n",
              "        response: {\n",
              "          action: 'append',\n",
              "          file: file.name,\n",
              "          data: base64,\n",
              "        },\n",
              "      };\n",
              "\n",
              "      let percentDone = fileData.byteLength === 0 ?\n",
              "          100 :\n",
              "          Math.round((position / fileData.byteLength) * 100);\n",
              "      percent.textContent = `${percentDone}% done`;\n",
              "\n",
              "    } while (position < fileData.byteLength);\n",
              "  }\n",
              "\n",
              "  // All done.\n",
              "  yield {\n",
              "    response: {\n",
              "      action: 'complete',\n",
              "    }\n",
              "  };\n",
              "}\n",
              "\n",
              "scope.google = scope.google || {};\n",
              "scope.google.colab = scope.google.colab || {};\n",
              "scope.google.colab._files = {\n",
              "  _uploadFiles,\n",
              "  _uploadFilesContinue,\n",
              "};\n",
              "})(self);\n",
              "</script> "
            ]
          },
          "metadata": {}
        },
        {
          "output_type": "stream",
          "name": "stdout",
          "text": [
            "Saving running.csv to running.csv\n"
          ]
        }
      ]
    },
    {
      "cell_type": "markdown",
      "metadata": {
        "id": "6mQ3_VhcR1WN"
      },
      "source": [
        "#Step 3: Import necessary packages\n",
        "\n",
        "```\n",
        "* import pandas as pd\n",
        "\n",
        "```"
      ]
    },
    {
      "cell_type": "code",
      "metadata": {
        "id": "oGQsWu2bRpp6"
      },
      "source": [
        "#Step 3\n",
        "\n",
        "import pandas as pd\n"
      ],
      "execution_count": null,
      "outputs": []
    },
    {
      "cell_type": "markdown",
      "metadata": {
        "id": "N3aT3Y28TLRX"
      },
      "source": [
        "# Step 4: Create a Pandas DataFrame from the CSV file\n",
        "* Name the DataFrame `running`\n",
        "* Print the first five observations of `running`.  Note the kinds of data it contains."
      ]
    },
    {
      "cell_type": "code",
      "metadata": {
        "id": "zR3wX0-OTach",
        "colab": {
          "base_uri": "https://localhost:8080/",
          "height": 206
        },
        "outputId": "0feffbff-6251-433e-d014-9804a8b038d2"
      },
      "source": [
        "#Step 4\n",
        "running = pd.read_csv('running.csv')\n",
        "running.head()\n",
        "\n"
      ],
      "execution_count": null,
      "outputs": [
        {
          "output_type": "execute_result",
          "data": {
            "text/plain": [
              "  First Name   Last Name  Gender                    Program            Pace  \\\n",
              "0   Jennifer       Adams       F  Five & Dime - New Members  10:00 min/mile   \n",
              "1   Gilberto  Alianiello    Male                   5 and 10   8:00 min/mile   \n",
              "2      Emily     Alvarez  Female       Five & Dime - Alumni   7:00 min/mile   \n",
              "3      Jenna      Aviles  Female  Five & Dime - New Members   6:30 min/mile   \n",
              "4        Kay       Baker  Female       Five & Dime - Alumni   8:00 min/mile   \n",
              "\n",
              "  Registration fee  \n",
              "0            $100   \n",
              "1            $100   \n",
              "2            $100   \n",
              "3            $100   \n",
              "4            $100   "
            ],
            "text/html": [
              "\n",
              "  <div id=\"df-1e991ece-b0e5-4280-840d-bc67ff7ad594\">\n",
              "    <div class=\"colab-df-container\">\n",
              "      <div>\n",
              "<style scoped>\n",
              "    .dataframe tbody tr th:only-of-type {\n",
              "        vertical-align: middle;\n",
              "    }\n",
              "\n",
              "    .dataframe tbody tr th {\n",
              "        vertical-align: top;\n",
              "    }\n",
              "\n",
              "    .dataframe thead th {\n",
              "        text-align: right;\n",
              "    }\n",
              "</style>\n",
              "<table border=\"1\" class=\"dataframe\">\n",
              "  <thead>\n",
              "    <tr style=\"text-align: right;\">\n",
              "      <th></th>\n",
              "      <th>First Name</th>\n",
              "      <th>Last Name</th>\n",
              "      <th>Gender</th>\n",
              "      <th>Program</th>\n",
              "      <th>Pace</th>\n",
              "      <th>Registration fee</th>\n",
              "    </tr>\n",
              "  </thead>\n",
              "  <tbody>\n",
              "    <tr>\n",
              "      <th>0</th>\n",
              "      <td>Jennifer</td>\n",
              "      <td>Adams</td>\n",
              "      <td>F</td>\n",
              "      <td>Five &amp; Dime - New Members</td>\n",
              "      <td>10:00 min/mile</td>\n",
              "      <td>$100</td>\n",
              "    </tr>\n",
              "    <tr>\n",
              "      <th>1</th>\n",
              "      <td>Gilberto</td>\n",
              "      <td>Alianiello</td>\n",
              "      <td>Male</td>\n",
              "      <td>5 and 10</td>\n",
              "      <td>8:00 min/mile</td>\n",
              "      <td>$100</td>\n",
              "    </tr>\n",
              "    <tr>\n",
              "      <th>2</th>\n",
              "      <td>Emily</td>\n",
              "      <td>Alvarez</td>\n",
              "      <td>Female</td>\n",
              "      <td>Five &amp; Dime - Alumni</td>\n",
              "      <td>7:00 min/mile</td>\n",
              "      <td>$100</td>\n",
              "    </tr>\n",
              "    <tr>\n",
              "      <th>3</th>\n",
              "      <td>Jenna</td>\n",
              "      <td>Aviles</td>\n",
              "      <td>Female</td>\n",
              "      <td>Five &amp; Dime - New Members</td>\n",
              "      <td>6:30 min/mile</td>\n",
              "      <td>$100</td>\n",
              "    </tr>\n",
              "    <tr>\n",
              "      <th>4</th>\n",
              "      <td>Kay</td>\n",
              "      <td>Baker</td>\n",
              "      <td>Female</td>\n",
              "      <td>Five &amp; Dime - Alumni</td>\n",
              "      <td>8:00 min/mile</td>\n",
              "      <td>$100</td>\n",
              "    </tr>\n",
              "  </tbody>\n",
              "</table>\n",
              "</div>\n",
              "      <button class=\"colab-df-convert\" onclick=\"convertToInteractive('df-1e991ece-b0e5-4280-840d-bc67ff7ad594')\"\n",
              "              title=\"Convert this dataframe to an interactive table.\"\n",
              "              style=\"display:none;\">\n",
              "        \n",
              "  <svg xmlns=\"http://www.w3.org/2000/svg\" height=\"24px\"viewBox=\"0 0 24 24\"\n",
              "       width=\"24px\">\n",
              "    <path d=\"M0 0h24v24H0V0z\" fill=\"none\"/>\n",
              "    <path d=\"M18.56 5.44l.94 2.06.94-2.06 2.06-.94-2.06-.94-.94-2.06-.94 2.06-2.06.94zm-11 1L8.5 8.5l.94-2.06 2.06-.94-2.06-.94L8.5 2.5l-.94 2.06-2.06.94zm10 10l.94 2.06.94-2.06 2.06-.94-2.06-.94-.94-2.06-.94 2.06-2.06.94z\"/><path d=\"M17.41 7.96l-1.37-1.37c-.4-.4-.92-.59-1.43-.59-.52 0-1.04.2-1.43.59L10.3 9.45l-7.72 7.72c-.78.78-.78 2.05 0 2.83L4 21.41c.39.39.9.59 1.41.59.51 0 1.02-.2 1.41-.59l7.78-7.78 2.81-2.81c.8-.78.8-2.07 0-2.86zM5.41 20L4 18.59l7.72-7.72 1.47 1.35L5.41 20z\"/>\n",
              "  </svg>\n",
              "      </button>\n",
              "      \n",
              "  <style>\n",
              "    .colab-df-container {\n",
              "      display:flex;\n",
              "      flex-wrap:wrap;\n",
              "      gap: 12px;\n",
              "    }\n",
              "\n",
              "    .colab-df-convert {\n",
              "      background-color: #E8F0FE;\n",
              "      border: none;\n",
              "      border-radius: 50%;\n",
              "      cursor: pointer;\n",
              "      display: none;\n",
              "      fill: #1967D2;\n",
              "      height: 32px;\n",
              "      padding: 0 0 0 0;\n",
              "      width: 32px;\n",
              "    }\n",
              "\n",
              "    .colab-df-convert:hover {\n",
              "      background-color: #E2EBFA;\n",
              "      box-shadow: 0px 1px 2px rgba(60, 64, 67, 0.3), 0px 1px 3px 1px rgba(60, 64, 67, 0.15);\n",
              "      fill: #174EA6;\n",
              "    }\n",
              "\n",
              "    [theme=dark] .colab-df-convert {\n",
              "      background-color: #3B4455;\n",
              "      fill: #D2E3FC;\n",
              "    }\n",
              "\n",
              "    [theme=dark] .colab-df-convert:hover {\n",
              "      background-color: #434B5C;\n",
              "      box-shadow: 0px 1px 3px 1px rgba(0, 0, 0, 0.15);\n",
              "      filter: drop-shadow(0px 1px 2px rgba(0, 0, 0, 0.3));\n",
              "      fill: #FFFFFF;\n",
              "    }\n",
              "  </style>\n",
              "\n",
              "      <script>\n",
              "        const buttonEl =\n",
              "          document.querySelector('#df-1e991ece-b0e5-4280-840d-bc67ff7ad594 button.colab-df-convert');\n",
              "        buttonEl.style.display =\n",
              "          google.colab.kernel.accessAllowed ? 'block' : 'none';\n",
              "\n",
              "        async function convertToInteractive(key) {\n",
              "          const element = document.querySelector('#df-1e991ece-b0e5-4280-840d-bc67ff7ad594');\n",
              "          const dataTable =\n",
              "            await google.colab.kernel.invokeFunction('convertToInteractive',\n",
              "                                                     [key], {});\n",
              "          if (!dataTable) return;\n",
              "\n",
              "          const docLinkHtml = 'Like what you see? Visit the ' +\n",
              "            '<a target=\"_blank\" href=https://colab.research.google.com/notebooks/data_table.ipynb>data table notebook</a>'\n",
              "            + ' to learn more about interactive tables.';\n",
              "          element.innerHTML = '';\n",
              "          dataTable['output_type'] = 'display_data';\n",
              "          await google.colab.output.renderOutput(dataTable, element);\n",
              "          const docLink = document.createElement('div');\n",
              "          docLink.innerHTML = docLinkHtml;\n",
              "          element.appendChild(docLink);\n",
              "        }\n",
              "      </script>\n",
              "    </div>\n",
              "  </div>\n",
              "  "
            ]
          },
          "metadata": {},
          "execution_count": 3
        }
      ]
    },
    {
      "cell_type": "code",
      "source": [
        "running.shape"
      ],
      "metadata": {
        "colab": {
          "base_uri": "https://localhost:8080/"
        },
        "id": "lhigdc2Y-_Xl",
        "outputId": "6e2046cf-58e4-4bee-aed6-d43d6bb8bd4b"
      },
      "execution_count": null,
      "outputs": [
        {
          "output_type": "execute_result",
          "data": {
            "text/plain": [
              "(59, 6)"
            ]
          },
          "metadata": {},
          "execution_count": 4
        }
      ]
    },
    {
      "cell_type": "markdown",
      "metadata": {
        "id": "8z6dO9tNyD6-"
      },
      "source": [
        "# Step 5: View the number of ways each of the two running programs have been entered in the `Program` column\n",
        "* There are several ways to accomplish this.  One way is to use `running['Program'].value_counts()`"
      ]
    },
    {
      "cell_type": "code",
      "source": [
        "#Step 5\n",
        "running.value_counts('Program')\n"
      ],
      "metadata": {
        "id": "pifHhqQ0el3N",
        "colab": {
          "base_uri": "https://localhost:8080/"
        },
        "outputId": "0a602fac-3b67-4705-e4c8-78a3a16db58d"
      },
      "execution_count": null,
      "outputs": [
        {
          "output_type": "execute_result",
          "data": {
            "text/plain": [
              "Program\n",
              "Five & Dime - Alumni                             11\n",
              "Five & Dime - Annual (Alumni Only)               10\n",
              "MarathonFest                                      8\n",
              "Five & Dime - New Members                         7\n",
              "5 and 10                                          5\n",
              "Mfest New Member                                  4\n",
              "Mfest Alumni                                      3\n",
              "F & D                                             2\n",
              "Five and Dime                                     2\n",
              " F & D Alum                                       1\n",
              "F & D - Annual                                    1\n",
              "Five & Dime - remember to give water discount     1\n",
              "MarathonFest - remember to give discount          1\n",
              "MarathonFest Alumni Annual                        1\n",
              "Marathonfest - Annual (Alumni Only)               1\n",
              "Mfest annual                                      1\n",
              "dtype: int64"
            ]
          },
          "metadata": {},
          "execution_count": 7
        }
      ]
    },
    {
      "cell_type": "markdown",
      "metadata": {
        "id": "9Eobo7yOt8BE"
      },
      "source": [
        "# Step 6: Write a function that will clean the `Program` column\n",
        "* Name your function `clean_training_program`\n",
        "* Every entry that contains `Five & Dime` or `F & D` or `5 and 10` should be changed to read `Five and Dime`\n",
        "* Every entry that contains `MarathonFest` or `MFest` should be changed to read `MarathonFest`\n",
        "* Refer to the examples on the slides if you need a hint on the function syntax."
      ]
    },
    {
      "cell_type": "code",
      "source": [
        "#Step 6\n",
        "def clean_training_program(Program):\n",
        "    if (\"Five & Dime\" in Program) or (\"5 and 10\" in Program) or ('F & D' in Program):\n",
        "        return \"Five and Dime\"\n",
        "    elif (\"Mfest\" in Program) or (\"MarathonFest\" in Program):\n",
        "        return \"MarathonFest\"\n",
        "\n"
      ],
      "metadata": {
        "id": "_W02NiE4vefC"
      },
      "execution_count": null,
      "outputs": []
    },
    {
      "cell_type": "markdown",
      "source": [
        "# Step 7: Apply your function to the `Program` column\n",
        "* Use `.apply()` to apply `clean_training_program` to `running['Program']`\n",
        "* Add the results to the DataFrame as a column called `Program_cleaned`\n",
        "* Print the header of `running`"
      ],
      "metadata": {
        "id": "bp4er8NW1y7k"
      }
    },
    {
      "cell_type": "code",
      "source": [
        "#Step 7\n",
        "running['Program_cleaned'] = running['Program'].apply(clean_training_program)\n"
      ],
      "metadata": {
        "id": "ruU7BKuY02y6"
      },
      "execution_count": null,
      "outputs": []
    },
    {
      "cell_type": "markdown",
      "metadata": {
        "id": "aCVoEmgT2mUL"
      },
      "source": [
        "# Step 8: Check your work cleaning `Program`\n",
        "* There are several ways to accomplish this.  One way is to use `running['Program_cleaned'].value_counts()`"
      ]
    },
    {
      "cell_type": "code",
      "source": [
        "#Step 8\n",
        "running['Program_cleaned'].value_counts()\n"
      ],
      "metadata": {
        "id": "x_zAE5k7xQiB",
        "colab": {
          "base_uri": "https://localhost:8080/"
        },
        "outputId": "ffeaf72b-3633-47bb-897e-c9838a8faddf"
      },
      "execution_count": null,
      "outputs": [
        {
          "output_type": "execute_result",
          "data": {
            "text/plain": [
              "Five and Dime    38\n",
              "MarathonFest     18\n",
              "Name: Program_cleaned, dtype: int64"
            ]
          },
          "metadata": {},
          "execution_count": 9
        }
      ]
    },
    {
      "cell_type": "code",
      "source": [
        "def clean_gender(Gender):\n",
        "\tif ('F' in Gender) or ('Woman' in Gender) or ('W' in Gender):\n",
        "\t\treturn 'Female'\n",
        "\telif ('M' in Gender) or ('Man' in Gender):\n",
        "\t\treturn 'Male'"
      ],
      "metadata": {
        "id": "69qH1W5DA9O5"
      },
      "execution_count": null,
      "outputs": []
    },
    {
      "cell_type": "code",
      "source": [
        "running['Gender_cleaned'] = running['Gender'].apply(clean_gender)\n"
      ],
      "metadata": {
        "id": "ZS3ogdcdBHG8"
      },
      "execution_count": null,
      "outputs": []
    },
    {
      "cell_type": "code",
      "source": [
        "running['Gender_cleaned'].value_counts()"
      ],
      "metadata": {
        "colab": {
          "base_uri": "https://localhost:8080/"
        },
        "id": "2Sx8e7YYBpt_",
        "outputId": "ede061ba-4424-4a8a-c412-29bfa596d2cd"
      },
      "execution_count": null,
      "outputs": [
        {
          "output_type": "execute_result",
          "data": {
            "text/plain": [
              "Female    39\n",
              "Male      20\n",
              "Name: Gender_cleaned, dtype: int64"
            ]
          },
          "metadata": {},
          "execution_count": 14
        }
      ]
    },
    {
      "cell_type": "markdown",
      "metadata": {
        "id": "c9h6A1CZ3QLy"
      },
      "source": [
        "# Step 9: Write a function that will clean the `Pace` column\n",
        "* Name your function `clean_pace`\n",
        "* Remove text that reads `min/mile`\n",
        "* Change every instance of `:00` to `.0`  \n",
        "* Change every instance of `:30` to `.5`\n",
        "* Convert the data type to a float.\n",
        "* Note that you can chain together multiple `.replace()` statements to make several changes in one line of code."
      ]
    },
    {
      "cell_type": "code",
      "source": [
        "#Step 9\n",
        "running['Pace'].value_counts()\n"
      ],
      "metadata": {
        "id": "Ot241LrJ3-zS",
        "colab": {
          "base_uri": "https://localhost:8080/"
        },
        "outputId": "80a9bb7d-1b3f-4ac9-c2f4-576ae8e15224"
      },
      "execution_count": null,
      "outputs": [
        {
          "output_type": "execute_result",
          "data": {
            "text/plain": [
              "10:00 min/mile    12\n",
              "7:00 min/mile     11\n",
              "9:30 min/mile     10\n",
              "6:30 min/mile      8\n",
              "8:00 min/mile      7\n",
              "8:30 min/mile      6\n",
              "9:00 min/mile      4\n",
              "6:00 min/mile      1\n",
              "Name: Pace, dtype: int64"
            ]
          },
          "metadata": {},
          "execution_count": 15
        }
      ]
    },
    {
      "cell_type": "code",
      "source": [
        "def clean_pace(Pace):\n",
        "  return float(Pace.replace(\"min/mile\",\"\").replace(\":00\",\".0\").replace(\":30\",\".5\"))"
      ],
      "metadata": {
        "id": "aGNdsLoUCJUc"
      },
      "execution_count": null,
      "outputs": []
    },
    {
      "cell_type": "markdown",
      "source": [
        "# Step 10: Apply your function to the `Pace` column\n",
        "* Use `.apply()` to apply `clean_pace` to `running['Pace']`\n",
        "* Add the results to the DataFrame as a column called `Pace_cleaned`\n",
        "* Print the header of `running`"
      ],
      "metadata": {
        "id": "MMtpHg084eik"
      }
    },
    {
      "cell_type": "code",
      "source": [
        "#Step 10\n",
        "running['Pace_cleaned'] = running['Pace'].apply(clean_pace)"
      ],
      "metadata": {
        "id": "C8z8NPV-46CE"
      },
      "execution_count": null,
      "outputs": []
    },
    {
      "cell_type": "markdown",
      "metadata": {
        "id": "5YvLwCiR5TGf"
      },
      "source": [
        "# Step 11: Check your work cleaning `Pace`\n",
        "* There are several ways to accomplish this.  One way is to use `running['Pace_cleaned'].value_counts()`"
      ]
    },
    {
      "cell_type": "code",
      "source": [
        "#Step 11\n",
        "running['Pace_cleaned'].value_counts()\n"
      ],
      "metadata": {
        "id": "B_d91dNv5cdI",
        "colab": {
          "base_uri": "https://localhost:8080/"
        },
        "outputId": "34b914d4-1812-4cd2-b180-b4e8d3c355e6"
      },
      "execution_count": null,
      "outputs": [
        {
          "output_type": "execute_result",
          "data": {
            "text/plain": [
              "10.0    12\n",
              "7.0     11\n",
              "9.5     10\n",
              "6.5      8\n",
              "8.0      7\n",
              "8.5      6\n",
              "9.0      4\n",
              "6.0      1\n",
              "Name: Pace_cleaned, dtype: int64"
            ]
          },
          "metadata": {},
          "execution_count": 28
        }
      ]
    },
    {
      "cell_type": "markdown",
      "metadata": {
        "id": "y9nTMZxG5jqi"
      },
      "source": [
        "# Step 12: Calculate the average running pace of the participants in these two training programs\n",
        "* You can calculate the average pace using `running['Pace_cleaned'].mean()`"
      ]
    },
    {
      "cell_type": "code",
      "source": [
        "#Step 12\n",
        "running['Pace_cleaned'].mean()\n"
      ],
      "metadata": {
        "id": "MKngCd2O5yBi",
        "colab": {
          "base_uri": "https://localhost:8080/"
        },
        "outputId": "f19f7006-fc3d-475c-a030-3b67bae4d23f"
      },
      "execution_count": null,
      "outputs": [
        {
          "output_type": "execute_result",
          "data": {
            "text/plain": [
              "8.35593220338983"
            ]
          },
          "metadata": {},
          "execution_count": 29
        }
      ]
    },
    {
      "cell_type": "code",
      "source": [
        "running['Registration fee'].head(10)"
      ],
      "metadata": {
        "colab": {
          "base_uri": "https://localhost:8080/"
        },
        "id": "miZHIS9AEo2g",
        "outputId": "80ff792a-04aa-457b-a195-fb2b2e5d6911"
      },
      "execution_count": null,
      "outputs": [
        {
          "output_type": "execute_result",
          "data": {
            "text/plain": [
              "0    $100 \n",
              "1    $100 \n",
              "2    $100 \n",
              "3    $100 \n",
              "4    $100 \n",
              "5    $100 \n",
              "6    $100 \n",
              "7    $100 \n",
              "8    $100 \n",
              "9    $100 \n",
              "Name: Registration fee, dtype: object"
            ]
          },
          "metadata": {},
          "execution_count": 30
        }
      ]
    },
    {
      "cell_type": "code",
      "source": [
        "#Step 12\n",
        "def clean_fee(Fee):\n",
        "\treturn float(Fee.replace('$',''))\n"
      ],
      "metadata": {
        "id": "wieIV5ZiF9mb"
      },
      "execution_count": null,
      "outputs": []
    },
    {
      "cell_type": "code",
      "source": [
        "running['Fee_numeric'] = running['Registration fee'].apply(clean_fee)\n",
        "running['Fee_numeric'].head(10)"
      ],
      "metadata": {
        "colab": {
          "base_uri": "https://localhost:8080/"
        },
        "id": "a3Lal81wGsHF",
        "outputId": "4e51b1c1-f0c0-4db8-d128-e5b5566b67a7"
      },
      "execution_count": null,
      "outputs": [
        {
          "output_type": "execute_result",
          "data": {
            "text/plain": [
              "0    100.0\n",
              "1    100.0\n",
              "2    100.0\n",
              "3    100.0\n",
              "4    100.0\n",
              "5    100.0\n",
              "6    100.0\n",
              "7    100.0\n",
              "8    100.0\n",
              "9    100.0\n",
              "Name: Fee_numeric, dtype: float64"
            ]
          },
          "metadata": {},
          "execution_count": 33
        }
      ]
    },
    {
      "cell_type": "code",
      "source": [
        "running['Fee_numeric'].sum()"
      ],
      "metadata": {
        "colab": {
          "base_uri": "https://localhost:8080/"
        },
        "id": "G5w6GoINGCuM",
        "outputId": "2602ed91-e310-4498-b832-dc1b0eacf386"
      },
      "execution_count": null,
      "outputs": [
        {
          "output_type": "execute_result",
          "data": {
            "text/plain": [
              "8750.0"
            ]
          },
          "metadata": {},
          "execution_count": 34
        }
      ]
    },
    {
      "cell_type": "code",
      "source": [],
      "metadata": {
        "id": "1Dw1FJIrG5Pc"
      },
      "execution_count": null,
      "outputs": []
    }
  ]
}